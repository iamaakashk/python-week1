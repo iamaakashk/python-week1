{
 "cells": [
  {
   "cell_type": "code",
   "execution_count": null,
   "id": "83c08d9a-a96f-47ce-89a3-c9a8dd35f276",
   "metadata": {},
   "outputs": [],
   "source": [
    "#aakash kamble python week 1 assignment"
   ]
  },
  {
   "cell_type": "code",
   "execution_count": null,
   "id": "0b902ed4-f47f-4c91-becf-7e75323977a5",
   "metadata": {},
   "outputs": [],
   "source": [
    "#Q1"
   ]
  },
  {
   "cell_type": "code",
   "execution_count": 1,
   "id": "1d5ff4c7-fc99-40ac-985e-4a8f78faa78d",
   "metadata": {},
   "outputs": [],
   "source": [
    "a=\"aakash\""
   ]
  },
  {
   "cell_type": "code",
   "execution_count": 3,
   "id": "3f51a11f-7420-48dc-8b98-9160db85590e",
   "metadata": {},
   "outputs": [
    {
     "data": {
      "text/plain": [
       "str"
      ]
     },
     "execution_count": 3,
     "metadata": {},
     "output_type": "execute_result"
    }
   ],
   "source": [
    "type(a)"
   ]
  },
  {
   "cell_type": "code",
   "execution_count": 5,
   "id": "5d1ebdd9-269a-4448-bb99-b4208e1dc8cf",
   "metadata": {},
   "outputs": [],
   "source": [
    "b=[2, 5, 7, 34.45, \"ask\", True, False, 2+4j, 8j ]"
   ]
  },
  {
   "cell_type": "code",
   "execution_count": 6,
   "id": "d2bcc6f9-8998-4e19-8b92-0c9c66205805",
   "metadata": {},
   "outputs": [
    {
     "data": {
      "text/plain": [
       "list"
      ]
     },
     "execution_count": 6,
     "metadata": {},
     "output_type": "execute_result"
    }
   ],
   "source": [
    "type(b)"
   ]
  },
  {
   "cell_type": "code",
   "execution_count": 7,
   "id": "ee167086-eb49-495e-b155-f137686bbd6d",
   "metadata": {},
   "outputs": [],
   "source": [
    "c=15.97"
   ]
  },
  {
   "cell_type": "code",
   "execution_count": 8,
   "id": "3dbc549e-c950-442b-abd1-ad19efd037e4",
   "metadata": {},
   "outputs": [
    {
     "data": {
      "text/plain": [
       "float"
      ]
     },
     "execution_count": 8,
     "metadata": {},
     "output_type": "execute_result"
    }
   ],
   "source": [
    "type(c)"
   ]
  },
  {
   "cell_type": "code",
   "execution_count": 9,
   "id": "469e2e42-2807-48a3-ad89-0da561f9b487",
   "metadata": {},
   "outputs": [],
   "source": [
    "d=( [ 2, 5, 7, 34.45 ] , \"ask\", True, False, 2+4j, 8j )"
   ]
  },
  {
   "cell_type": "code",
   "execution_count": 11,
   "id": "c960cce5-f6a1-4eb4-a240-d0f9d4259062",
   "metadata": {},
   "outputs": [
    {
     "data": {
      "text/plain": [
       "tuple"
      ]
     },
     "execution_count": 11,
     "metadata": {},
     "output_type": "execute_result"
    }
   ],
   "source": [
    "type(d)"
   ]
  },
  {
   "cell_type": "code",
   "execution_count": 12,
   "id": "e8c97079-f6c1-41c7-a5ff-96da16e408b5",
   "metadata": {},
   "outputs": [],
   "source": [
    "#q2"
   ]
  },
  {
   "cell_type": "code",
   "execution_count": 13,
   "id": "187f915c-9216-4302-98ca-902be6301be3",
   "metadata": {},
   "outputs": [],
   "source": [
    "var1=' '"
   ]
  },
  {
   "cell_type": "code",
   "execution_count": 14,
   "id": "b4dea4c5-be41-4379-b75e-25545b9bcdf8",
   "metadata": {},
   "outputs": [
    {
     "data": {
      "text/plain": [
       "str"
      ]
     },
     "execution_count": 14,
     "metadata": {},
     "output_type": "execute_result"
    }
   ],
   "source": [
    "type(var1)"
   ]
  },
  {
   "cell_type": "code",
   "execution_count": 17,
   "id": "b84c9918-4cbd-47d3-aca1-e527d2d9b3e3",
   "metadata": {},
   "outputs": [],
   "source": [
    "var2 = \"[ DS , ML , Python]\""
   ]
  },
  {
   "cell_type": "code",
   "execution_count": 18,
   "id": "3f57cc87-8d85-4768-a070-1b21a926d249",
   "metadata": {},
   "outputs": [
    {
     "data": {
      "text/plain": [
       "str"
      ]
     },
     "execution_count": 18,
     "metadata": {},
     "output_type": "execute_result"
    }
   ],
   "source": [
    "type(var2)"
   ]
  },
  {
   "cell_type": "code",
   "execution_count": 23,
   "id": "ff905880-e558-45a6-b01f-608354eb7be1",
   "metadata": {},
   "outputs": [],
   "source": [
    "var3 = [ \"DS\", \"ML\" , \"python\" ]"
   ]
  },
  {
   "cell_type": "code",
   "execution_count": 24,
   "id": "c9d13796-24c8-4b19-ba33-f270b074b004",
   "metadata": {},
   "outputs": [
    {
     "data": {
      "text/plain": [
       "list"
      ]
     },
     "execution_count": 24,
     "metadata": {},
     "output_type": "execute_result"
    }
   ],
   "source": [
    "type (var3)"
   ]
  },
  {
   "cell_type": "code",
   "execution_count": 27,
   "id": "db6af621-2693-45d3-a7a8-f78c921707ea",
   "metadata": {},
   "outputs": [],
   "source": [
    "var4=1"
   ]
  },
  {
   "cell_type": "code",
   "execution_count": 26,
   "id": "322a9e0a-d13c-4aa5-8a4c-9a1e4f8ca50f",
   "metadata": {},
   "outputs": [
    {
     "data": {
      "text/plain": [
       "int"
      ]
     },
     "execution_count": 26,
     "metadata": {},
     "output_type": "execute_result"
    }
   ],
   "source": [
    "type (var4)"
   ]
  },
  {
   "cell_type": "code",
   "execution_count": 28,
   "id": "64be3cf1-7641-4637-ab01-d572708762d6",
   "metadata": {},
   "outputs": [],
   "source": [
    "#Q3"
   ]
  },
  {
   "cell_type": "code",
   "execution_count": 29,
   "id": "fe27e21e-943f-4fa8-a084-f603e3e4181f",
   "metadata": {},
   "outputs": [],
   "source": [
    "# / is used to divide any 2 numbers (can't divide by zero)"
   ]
  },
  {
   "cell_type": "code",
   "execution_count": 30,
   "id": "c2c81dad-a2c4-4332-b3fc-ab08c4cbb409",
   "metadata": {},
   "outputs": [
    {
     "data": {
      "text/plain": [
       "2.0"
      ]
     },
     "execution_count": 30,
     "metadata": {},
     "output_type": "execute_result"
    }
   ],
   "source": [
    "10/5"
   ]
  },
  {
   "cell_type": "code",
   "execution_count": 31,
   "id": "4dcf0ce0-6289-468e-a901-6a05bf14f1b3",
   "metadata": {},
   "outputs": [
    {
     "data": {
      "text/plain": [
       "2.5"
      ]
     },
     "execution_count": 31,
     "metadata": {},
     "output_type": "execute_result"
    }
   ],
   "source": [
    "5/2"
   ]
  },
  {
   "cell_type": "code",
   "execution_count": 32,
   "id": "366a73a4-40c7-4945-a04c-5dc3770ae797",
   "metadata": {},
   "outputs": [],
   "source": [
    "# % is used to provide the remainder that we get after division"
   ]
  },
  {
   "cell_type": "code",
   "execution_count": 33,
   "id": "70d19161-53a0-4681-9b39-00363efea689",
   "metadata": {},
   "outputs": [
    {
     "data": {
      "text/plain": [
       "2"
      ]
     },
     "execution_count": 33,
     "metadata": {},
     "output_type": "execute_result"
    }
   ],
   "source": [
    "10%4"
   ]
  },
  {
   "cell_type": "code",
   "execution_count": 35,
   "id": "963f9cd6-61b1-4772-a9ec-ed5fc560a1aa",
   "metadata": {},
   "outputs": [
    {
     "data": {
      "text/plain": [
       "1"
      ]
     },
     "execution_count": 35,
     "metadata": {},
     "output_type": "execute_result"
    }
   ],
   "source": [
    "33%2"
   ]
  },
  {
   "cell_type": "code",
   "execution_count": 36,
   "id": "40ae6514-f57e-4260-871f-25ca385f2b2c",
   "metadata": {},
   "outputs": [],
   "source": [
    "# // is floor division which rounds off the answer to nearest integer value"
   ]
  },
  {
   "cell_type": "code",
   "execution_count": 37,
   "id": "2dba072c-cf6f-4171-86a4-101038e5c8cd",
   "metadata": {},
   "outputs": [
    {
     "data": {
      "text/plain": [
       "3.75"
      ]
     },
     "execution_count": 37,
     "metadata": {},
     "output_type": "execute_result"
    }
   ],
   "source": [
    "15/4"
   ]
  },
  {
   "cell_type": "code",
   "execution_count": 38,
   "id": "e5ec251b-f7a9-454f-9135-2b4ddc12c041",
   "metadata": {},
   "outputs": [],
   "source": [
    "#but when i use // it will round off the answer"
   ]
  },
  {
   "cell_type": "code",
   "execution_count": 39,
   "id": "01b165f5-e5cc-4091-aaf5-6f87fa2b42dc",
   "metadata": {},
   "outputs": [
    {
     "data": {
      "text/plain": [
       "3"
      ]
     },
     "execution_count": 39,
     "metadata": {},
     "output_type": "execute_result"
    }
   ],
   "source": [
    "15//4"
   ]
  },
  {
   "cell_type": "code",
   "execution_count": 40,
   "id": "415a4379-506f-4567-9247-fa41ef50ac68",
   "metadata": {},
   "outputs": [],
   "source": [
    "# ** is used to write the power(exponent) to the number  i.e index to no."
   ]
  },
  {
   "cell_type": "code",
   "execution_count": 41,
   "id": "c0b8a5cc-b23a-4026-85a1-6faeb813a558",
   "metadata": {},
   "outputs": [
    {
     "data": {
      "text/plain": [
       "32"
      ]
     },
     "execution_count": 41,
     "metadata": {},
     "output_type": "execute_result"
    }
   ],
   "source": [
    "2**5"
   ]
  },
  {
   "cell_type": "code",
   "execution_count": 42,
   "id": "79d0c2e3-5c12-43e4-b727-e03d9af25ad6",
   "metadata": {},
   "outputs": [
    {
     "data": {
      "text/plain": [
       "1000"
      ]
     },
     "execution_count": 42,
     "metadata": {},
     "output_type": "execute_result"
    }
   ],
   "source": [
    "10**3"
   ]
  },
  {
   "cell_type": "code",
   "execution_count": null,
   "id": "62a9436b-e2cb-4243-afeb-f7b0cd1c4971",
   "metadata": {},
   "outputs": [],
   "source": [
    "#Q4"
   ]
  },
  {
   "cell_type": "code",
   "execution_count": 43,
   "id": "15c0687b-4738-48d8-878b-9d5a9a0fa224",
   "metadata": {},
   "outputs": [],
   "source": [
    "list1=[1, 2, 3, 45.6, 6+12j, 4j, True,\"q4\", False, 90.5 ]"
   ]
  },
  {
   "cell_type": "code",
   "execution_count": 47,
   "id": "ae70ab7e-3467-4a4c-85a6-3175d06bdb99",
   "metadata": {},
   "outputs": [
    {
     "name": "stdout",
     "output_type": "stream",
     "text": [
      "<class 'int'>\n",
      "1\n",
      "<class 'int'>\n",
      "2\n",
      "<class 'int'>\n",
      "3\n",
      "<class 'float'>\n",
      "45.6\n",
      "<class 'complex'>\n",
      "(6+12j)\n",
      "<class 'complex'>\n",
      "4j\n",
      "<class 'bool'>\n",
      "True\n",
      "<class 'str'>\n",
      "q4\n",
      "<class 'bool'>\n",
      "False\n",
      "<class 'float'>\n",
      "90.5\n"
     ]
    }
   ],
   "source": [
    "for i in list1 :\n",
    "    \n",
    "    print(type(i))\n",
    "    \n",
    "    print(i)"
   ]
  },
  {
   "cell_type": "code",
   "execution_count": null,
   "id": "5f408ba4-68fb-428b-9a15-cad0d375a4ee",
   "metadata": {},
   "outputs": [],
   "source": [
    "#Q5"
   ]
  },
  {
   "cell_type": "code",
   "execution_count": null,
   "id": "24f597da-a968-494e-973e-de8c1b86517b",
   "metadata": {},
   "outputs": [],
   "source": [
    "# give input in A/B fashion to check the divisibility"
   ]
  },
  {
   "cell_type": "code",
   "execution_count": 24,
   "id": "f04edc35-14db-4053-911b-aef7d34334b7",
   "metadata": {},
   "outputs": [
    {
     "name": "stdin",
     "output_type": "stream",
     "text": [
      " 26\n"
     ]
    }
   ],
   "source": [
    "A=int(input())"
   ]
  },
  {
   "cell_type": "code",
   "execution_count": 25,
   "id": "bc396ca4-92b8-4ace-9f02-9e2fab68bd39",
   "metadata": {},
   "outputs": [
    {
     "name": "stdin",
     "output_type": "stream",
     "text": [
      " 12\n"
     ]
    }
   ],
   "source": [
    "B=int(input())"
   ]
  },
  {
   "cell_type": "code",
   "execution_count": null,
   "id": "a9edc547-4169-4143-8bdb-c692ec9dfcaa",
   "metadata": {},
   "outputs": [],
   "source": [
    "c=0"
   ]
  },
  {
   "cell_type": "code",
   "execution_count": 28,
   "id": "9d060734-4a6a-40e3-8329-9eae7eefa391",
   "metadata": {},
   "outputs": [
    {
     "name": "stdout",
     "output_type": "stream",
     "text": [
      " not divisible \n"
     ]
    }
   ],
   "source": [
    " if A/B==0 :\n",
    "        while (A/B>=B and type(A/B)==int):\n",
    "            \n",
    "            print (\"A is purely divisible by B\")\n",
    "        \n",
    "        c+=1  \n",
    "        A/=B \n",
    "else :\n",
    "    print (\" not divisible \")\n",
    "    "
   ]
  },
  {
   "cell_type": "code",
   "execution_count": null,
   "id": "79e0f5f8-5e66-4308-a9e2-a7bf99f58df5",
   "metadata": {},
   "outputs": [],
   "source": [
    "#Q6"
   ]
  },
  {
   "cell_type": "code",
   "execution_count": 48,
   "id": "c236e28e-e089-4eeb-bd79-936893f15d88",
   "metadata": {},
   "outputs": [],
   "source": [
    "list2=[1,2,3,4,5,6,7,8,9,10,11,12,13,14,15,16,17,18,19,20,21,22,23,24,25 ]"
   ]
  },
  {
   "cell_type": "code",
   "execution_count": 30,
   "id": "a6ba7acb-001a-4904-9187-e442509e4b10",
   "metadata": {},
   "outputs": [
    {
     "data": {
      "text/plain": [
       "range(0, 25)"
      ]
     },
     "execution_count": 30,
     "metadata": {},
     "output_type": "execute_result"
    }
   ],
   "source": [
    "range(25)"
   ]
  },
  {
   "cell_type": "code",
   "execution_count": 31,
   "id": "b0b68f0d-e275-44df-acf3-e74c94def9b4",
   "metadata": {},
   "outputs": [
    {
     "data": {
      "text/plain": [
       "list"
      ]
     },
     "execution_count": 31,
     "metadata": {},
     "output_type": "execute_result"
    }
   ],
   "source": [
    "type(list2)"
   ]
  },
  {
   "cell_type": "code",
   "execution_count": 50,
   "id": "62be52b8-4f9d-4372-834e-23e384c58074",
   "metadata": {},
   "outputs": [
    {
     "name": "stdout",
     "output_type": "stream",
     "text": [
      "indivisible: 1\n",
      "indivisible: 2\n",
      "divisible number: 3\n",
      "indivisible: 4\n",
      "indivisible: 5\n",
      "divisible number: 6\n",
      "indivisible: 7\n",
      "indivisible: 8\n",
      "divisible number: 9\n",
      "indivisible: 10\n",
      "indivisible: 11\n",
      "divisible number: 12\n",
      "indivisible: 13\n",
      "indivisible: 14\n",
      "divisible number: 15\n",
      "indivisible: 16\n",
      "indivisible: 17\n",
      "divisible number: 18\n",
      "indivisible: 19\n",
      "indivisible: 20\n",
      "divisible number: 21\n",
      "indivisible: 22\n",
      "indivisible: 23\n",
      "divisible number: 24\n",
      "indivisible: 25\n"
     ]
    }
   ],
   "source": [
    " for i in list2:\n",
    "        \n",
    "        if i % 3 == 0:\n",
    "            \n",
    "            print(\"divisible number:\",i)\n",
    "            i+=1\n",
    "        else :\n",
    "                print (\"indivisible:\",i)\n",
    "\n"
   ]
  },
  {
   "cell_type": "code",
   "execution_count": 51,
   "id": "a3bfa569-915c-4a01-8b26-a6d7446f9d51",
   "metadata": {},
   "outputs": [],
   "source": [
    "#Q7"
   ]
  },
  {
   "cell_type": "code",
   "execution_count": 57,
   "id": "8760f86a-a09a-4dbe-8430-ee365b718378",
   "metadata": {},
   "outputs": [],
   "source": [
    "r=[ 1,5,8,'my',3+6j,True,59.8]"
   ]
  },
  {
   "cell_type": "code",
   "execution_count": 58,
   "id": "3089b598-9bad-4200-9055-7460509d34cd",
   "metadata": {},
   "outputs": [
    {
     "data": {
      "text/plain": [
       "list"
      ]
     },
     "execution_count": 58,
     "metadata": {},
     "output_type": "execute_result"
    }
   ],
   "source": [
    "type(r)"
   ]
  },
  {
   "cell_type": "code",
   "execution_count": 59,
   "id": "b8e38607-8a62-41bc-ae70-ebc467853994",
   "metadata": {},
   "outputs": [
    {
     "data": {
      "text/plain": [
       "8"
      ]
     },
     "execution_count": 59,
     "metadata": {},
     "output_type": "execute_result"
    }
   ],
   "source": [
    "r[2]"
   ]
  },
  {
   "cell_type": "code",
   "execution_count": 60,
   "id": "18377385-dc3a-481e-95f8-8a51bcc3c4ae",
   "metadata": {},
   "outputs": [],
   "source": [
    "r[2]=800"
   ]
  },
  {
   "cell_type": "code",
   "execution_count": 61,
   "id": "ad8da1be-ced7-4440-9134-5e2d80c412ea",
   "metadata": {},
   "outputs": [
    {
     "data": {
      "text/plain": [
       "[1, 5, 800, 'my', (3+6j), True, 59.8]"
      ]
     },
     "execution_count": 61,
     "metadata": {},
     "output_type": "execute_result"
    }
   ],
   "source": [
    "r"
   ]
  },
  {
   "cell_type": "code",
   "execution_count": 62,
   "id": "95b829ad-d2b0-44f4-9ec4-f12ec8214c69",
   "metadata": {},
   "outputs": [],
   "source": [
    "# implies LIST is a MUTABLE DATA TYPE"
   ]
  },
  {
   "cell_type": "code",
   "execution_count": 64,
   "id": "07ea3504-5169-4a3e-932b-0613e0ebd735",
   "metadata": {},
   "outputs": [],
   "source": [
    "m='science'"
   ]
  },
  {
   "cell_type": "code",
   "execution_count": 65,
   "id": "68124bd2-8e12-4b9f-a756-8e4b6834423a",
   "metadata": {},
   "outputs": [
    {
     "data": {
      "text/plain": [
       "str"
      ]
     },
     "execution_count": 65,
     "metadata": {},
     "output_type": "execute_result"
    }
   ],
   "source": [
    "type(m)"
   ]
  },
  {
   "cell_type": "code",
   "execution_count": 66,
   "id": "d7978a24-2068-41a8-a67a-26eccc589bb3",
   "metadata": {},
   "outputs": [
    {
     "data": {
      "text/plain": [
       "'n'"
      ]
     },
     "execution_count": 66,
     "metadata": {},
     "output_type": "execute_result"
    }
   ],
   "source": [
    "m[4]"
   ]
  },
  {
   "cell_type": "code",
   "execution_count": 69,
   "id": "f58f370b-3594-431b-87de-dedacaa51b47",
   "metadata": {},
   "outputs": [
    {
     "ename": "TypeError",
     "evalue": "'str' object does not support item assignment",
     "output_type": "error",
     "traceback": [
      "\u001b[0;31m---------------------------------------------------------------------------\u001b[0m",
      "\u001b[0;31mTypeError\u001b[0m                                 Traceback (most recent call last)",
      "Cell \u001b[0;32mIn[69], line 1\u001b[0m\n\u001b[0;32m----> 1\u001b[0m \u001b[43mm\u001b[49m\u001b[43m[\u001b[49m\u001b[38;5;241;43m4\u001b[39;49m\u001b[43m]\u001b[49m\u001b[38;5;241m=\u001b[39m\u001b[38;5;124m'\u001b[39m\u001b[38;5;124mo\u001b[39m\u001b[38;5;124m'\u001b[39m\n",
      "\u001b[0;31mTypeError\u001b[0m: 'str' object does not support item assignment"
     ]
    }
   ],
   "source": [
    "m[4]='o'"
   ]
  },
  {
   "cell_type": "code",
   "execution_count": 71,
   "id": "3dbaa397-25e8-4e02-b0b7-46186c850d03",
   "metadata": {},
   "outputs": [],
   "source": [
    "# implies STRING is a IMMUTABLE DATA TYPE (TUUPLE is also immutable data type)"
   ]
  },
  {
   "cell_type": "code",
   "execution_count": null,
   "id": "5dfc6bd6-dde4-4462-ada9-0a64035a6667",
   "metadata": {},
   "outputs": [],
   "source": []
  }
 ],
 "metadata": {
  "kernelspec": {
   "display_name": "Python 3 (ipykernel)",
   "language": "python",
   "name": "python3"
  },
  "language_info": {
   "codemirror_mode": {
    "name": "ipython",
    "version": 3
   },
   "file_extension": ".py",
   "mimetype": "text/x-python",
   "name": "python",
   "nbconvert_exporter": "python",
   "pygments_lexer": "ipython3",
   "version": "3.10.8"
  }
 },
 "nbformat": 4,
 "nbformat_minor": 5
}
